{
 "cells": [
  {
   "cell_type": "code",
   "execution_count": 1,
   "id": "7d92f82b-98e5-4a57-95ad-7d34aa054d74",
   "metadata": {
    "tags": []
   },
   "outputs": [],
   "source": [
    "import modelmanager as mm\n",
    "import numpy as np\n",
    "import os"
   ]
  },
  {
   "cell_type": "code",
   "execution_count": 2,
   "id": "d4bdda87-c2fb-4c1e-b4ac-5b5d7ad38801",
   "metadata": {
    "tags": []
   },
   "outputs": [],
   "source": [
    "### Generate model_handler\n",
    "model_handler = mm.ModelHandler(\"mymodels\")"
   ]
  },
  {
   "cell_type": "code",
   "execution_count": 3,
   "id": "7415516a-30b0-4764-964e-c236b842a25a",
   "metadata": {
    "tags": []
   },
   "outputs": [],
   "source": [
    "### Generate the first model\n",
    "model_info_1 = mm.ModelInfo(model_handler)\n",
    "\n",
    "### Define attributes\n",
    "learning_rate = 0.001\n",
    "regularization = 1e-4\n",
    "\n",
    "### Add attributes to model info\n",
    "model_info_1.add(\"learning_rate\", learning_rate)\n",
    "model_info_1.add(\"regularization\", regularization)\n",
    "\n",
    "### Store the model info to disk\n",
    "model_info_1.store()\n",
    "\n",
    "### Generate the model (we use a random matrix as an example)\n",
    "mymodel_1 = np.random.randn(10, 50)\n",
    "\n",
    "### Evaluate the model\n",
    "\n",
    "# put here code for evaluation\n",
    "accuracy = 0.96\n",
    "elapsed_time = 11e-3\n",
    "\n",
    "### Store the results as attributes to the model info\n",
    "model_info_1.add(\"accuracy\", accuracy)\n",
    "model_info_1.add(\"elapsed_time\", elapsed_time)\n",
    "\n",
    "### Store the model info to disk\n",
    "model_info_1.store()\n",
    "\n",
    "### Store the model parameters to disk\n",
    "np.save(model_info_1.get_path(\"model_params\", file_extension=\"npy\"), mymodel_1)"
   ]
  },
  {
   "cell_type": "code",
   "execution_count": 4,
   "id": "8702a4e7-ab9a-4888-8fd6-fc7d97233d25",
   "metadata": {
    "tags": []
   },
   "outputs": [],
   "source": [
    "### Generate the second model\n",
    "model_info_2 = mm.ModelInfo(model_handler)\n",
    "\n",
    "### Define attributes\n",
    "learning_rate = 0.004\n",
    "regularization = 8e-5\n",
    "\n",
    "### Add attributes to model info\n",
    "model_info_2.add(\"learning_rate\", learning_rate)\n",
    "model_info_2.add(\"regularization\", regularization)\n",
    "\n",
    "### Store the model info to disk\n",
    "model_info_1.store()\n",
    "\n",
    "### Generate the model (we use a random matrix as an example)\n",
    "mymodel_2 = np.random.randn(10, 50)\n",
    "\n",
    "### Evaluate the model\n",
    "\n",
    "# put here code for evaluation\n",
    "accuracy = 0.94\n",
    "elapsed_time = 10e-3\n",
    "\n",
    "### Store the results as attributes to the model info\n",
    "model_info_2.add(\"accuracy\", accuracy)\n",
    "model_info_2.add(\"elapsed_time\", elapsed_time)\n",
    "\n",
    "### Store the model info to disk\n",
    "model_info_2.store()\n",
    "\n",
    "### Store the model parameters to disk\n",
    "np.save(model_info_2.get_path(\"model_params\", file_extension=\"npy\"), mymodel_2)"
   ]
  },
  {
   "cell_type": "markdown",
   "id": "ce181c75-2b3f-4fc4-9e0b-3bc60b2575bb",
   "metadata": {},
   "source": [
    "### Deleting the models\n",
    "- Go to the handler folder (in this example \"mymodels/\")\n",
    "- Remove the folder associated to the model (the folder whose name is the id of the model)\n",
    "- Run refreshinfo.py (python refreshinfo.py) that removes the models from modelsinfo.csv depending on the removed folders."
   ]
  },
  {
   "cell_type": "code",
   "execution_count": null,
   "id": "3da51a98-17b5-420e-904b-81da987f6b5b",
   "metadata": {},
   "outputs": [],
   "source": []
  }
 ],
 "metadata": {
  "kernelspec": {
   "display_name": "Python 3 (ipykernel)",
   "language": "python",
   "name": "python3"
  },
  "language_info": {
   "codemirror_mode": {
    "name": "ipython",
    "version": 3
   },
   "file_extension": ".py",
   "mimetype": "text/x-python",
   "name": "python",
   "nbconvert_exporter": "python",
   "pygments_lexer": "ipython3",
   "version": "3.10.9"
  }
 },
 "nbformat": 4,
 "nbformat_minor": 5
}
